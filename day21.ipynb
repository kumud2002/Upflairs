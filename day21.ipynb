{
 "cells": [
  {
   "attachments": {},
   "cell_type": "markdown",
   "metadata": {},
   "source": [
    "- import pyaudio\n",
    "- import speech_recognition\n",
    "- import pyttsx3\n",
    "- import nltk"
   ]
  },
  {
   "cell_type": "code",
   "execution_count": 1,
   "metadata": {},
   "outputs": [],
   "source": [
    "import nltk\n",
    "# nltk.download('all')"
   ]
  },
  {
   "cell_type": "code",
   "execution_count": 2,
   "metadata": {},
   "outputs": [],
   "source": [
    "from nltk.chat.util import Chat , reflections"
   ]
  },
  {
   "cell_type": "code",
   "execution_count": 3,
   "metadata": {},
   "outputs": [],
   "source": [
    "# Rules for Chat\n",
    "# A List of tuples associaled with possible responses\n",
    "\n",
    "rules = [\n",
    "    ('hello',['hi','namaste']),\n",
    "    ('ac is not working',['pankha chalao','aisa hi hota hai'])\n",
    "]"
   ]
  },
  {
   "cell_type": "code",
   "execution_count": 4,
   "metadata": {},
   "outputs": [],
   "source": [
    "cb = Chat(rules)"
   ]
  },
  {
   "cell_type": "code",
   "execution_count": 5,
   "metadata": {},
   "outputs": [
    {
     "name": "stdout",
     "output_type": "stream",
     "text": [
      "Question : \n",
      "\t hello\n",
      "Amswer : \n",
      "\t hi\n",
      "\t namaste\n",
      "****************\n",
      "Question : \n",
      "\t ac is not working\n",
      "Amswer : \n",
      "\t pankha chalao\n",
      "\t aisa hi hota hai\n",
      "****************\n"
     ]
    }
   ],
   "source": [
    "for q,a in rules:\n",
    "    print('Question : \\n\\t',q)\n",
    "    print('Amswer : ')\n",
    "    for ans in a:\n",
    "        print('\\t',ans)\n",
    "    print('*'*16)\n"
   ]
  },
  {
   "cell_type": "code",
   "execution_count": 6,
   "metadata": {},
   "outputs": [
    {
     "data": {
      "text/plain": [
       "'namaste'"
      ]
     },
     "execution_count": 6,
     "metadata": {},
     "output_type": "execute_result"
    }
   ],
   "source": [
    "cb.respond('hello')"
   ]
  },
  {
   "cell_type": "code",
   "execution_count": 7,
   "metadata": {},
   "outputs": [],
   "source": [
    "# to start conversation\n",
    "cb.converse()"
   ]
  },
  {
   "cell_type": "code",
   "execution_count": 8,
   "metadata": {},
   "outputs": [],
   "source": [
    "import pyttsx3\n",
    "import speech_recognition as sr"
   ]
  },
  {
   "cell_type": "code",
   "execution_count": 13,
   "metadata": {},
   "outputs": [
    {
     "name": "stdout",
     "output_type": "stream",
     "text": [
      "Say :  \n",
      " Could not recgnize\n"
     ]
    }
   ],
   "source": [
    "spEng  = pyttsx3.init()\n",
    "spEng.setProperty('rate', 150)\n",
    "recognizer  = sr.Recognizer()\n",
    "\n",
    "with sr.Microphone() as mic:\n",
    "    print('Say : ',end = ' ')\n",
    "    try: \n",
    "        audio = recognizer.listen(mic,timeout=2,phrase_time_limit=2)\n",
    "        text = recognizer.recognize_google(audio)\n",
    "        print(text)\n",
    "        resp = cb.respond(text)\n",
    "        print(resp)\n",
    "        spEng.say(resp)\n",
    "        spEng,runAndWait()\n",
    "    except Exception as err:\n",
    "        print('\\n Could not recgnize')\n"
   ]
  },
  {
   "cell_type": "code",
   "execution_count": 10,
   "metadata": {},
   "outputs": [
    {
     "name": "stdout",
     "output_type": "stream",
     "text": [
      "None\n"
     ]
    }
   ],
   "source": [
    "voices = spEng.getProperty('voices')\n",
    "voice = voices[0]\n",
    "print(voice.age)"
   ]
  },
  {
   "cell_type": "code",
   "execution_count": 11,
   "metadata": {},
   "outputs": [
    {
     "name": "stdout",
     "output_type": "stream",
     "text": [
      "voice : \n",
      "id     : HKEY_LOCAL_MACHINE\\SOFTWARE\\Microsoft\\Speech\\Voices\\Tokens\\TTS_MS_EN-US_DAVID_11.0\n",
      "name   : Microsoft David Desktop - English (United States)\n",
      "age    : None\n",
      "gender : None\n",
      "********\n",
      "voice : \n",
      "id     : HKEY_LOCAL_MACHINE\\SOFTWARE\\Microsoft\\Speech\\Voices\\Tokens\\TTS_MS_EN-US_ZIRA_11.0\n",
      "name   : Microsoft Zira Desktop - English (United States)\n",
      "age    : None\n",
      "gender : None\n",
      "********\n"
     ]
    }
   ],
   "source": [
    "for voice in voices:\n",
    "    print('voice : ')\n",
    "    print(f'id     : {voice.id}')\n",
    "    print(f'name   : {voice.name}')\n",
    "    print(f'age    : {voice.age}')\n",
    "    print(f'gender : {voice.gender}')\n",
    "    print('*'*8)"
   ]
  },
  {
   "cell_type": "code",
   "execution_count": 12,
   "metadata": {},
   "outputs": [],
   "source": [
    "voiceid = voices[1].id"
   ]
  },
  {
   "cell_type": "code",
   "execution_count": null,
   "metadata": {},
   "outputs": [],
   "source": []
  },
  {
   "cell_type": "code",
   "execution_count": null,
   "metadata": {},
   "outputs": [],
   "source": []
  },
  {
   "cell_type": "code",
   "execution_count": null,
   "metadata": {},
   "outputs": [],
   "source": []
  }
 ],
 "metadata": {
  "kernelspec": {
   "display_name": "Python 3",
   "language": "python",
   "name": "python3"
  },
  "language_info": {
   "codemirror_mode": {
    "name": "ipython",
    "version": 3
   },
   "file_extension": ".py",
   "mimetype": "text/x-python",
   "name": "python",
   "nbconvert_exporter": "python",
   "pygments_lexer": "ipython3",
   "version": "3.10.0"
  },
  "orig_nbformat": 4
 },
 "nbformat": 4,
 "nbformat_minor": 2
}
